{
 "cells": [
  {
   "cell_type": "code",
   "execution_count": 55,
   "id": "938be747-2093-4f1b-99b9-9f517a4cfd2e",
   "metadata": {},
   "outputs": [],
   "source": [
    "hairstyles = [\"bouffant\", \"pixie\", \"dreadlocks\", \"crew\", \"bowl\", \"bob\", \"mohawk\", \"flattop\"]"
   ]
  },
  {
   "cell_type": "code",
   "execution_count": 56,
   "id": "32da9c06-9c1a-41c8-aa52-62b6ff7bc906",
   "metadata": {},
   "outputs": [],
   "source": [
    "prices = [30,25,40,20,20,35,50,35]"
   ]
  },
  {
   "cell_type": "code",
   "execution_count": 57,
   "id": "977622d1-93df-4056-bddc-5c71d8676bdf",
   "metadata": {},
   "outputs": [],
   "source": [
    "last_week = [2,3,5,8,4,4,6,2]"
   ]
  },
  {
   "cell_type": "code",
   "execution_count": 58,
   "id": "936e9ab9-0896-45e0-aa57-24dbce3ffc88",
   "metadata": {},
   "outputs": [],
   "source": [
    "total_price = 0\n"
   ]
  },
  {
   "cell_type": "code",
   "execution_count": 59,
   "id": "91b903cb-5200-43e0-b259-d16e0fcb3b38",
   "metadata": {},
   "outputs": [],
   "source": [
    "for i in prices:\n",
    "    total_price += i"
   ]
  },
  {
   "cell_type": "code",
   "execution_count": 60,
   "id": "3de27ff6-875a-4f3d-bdc2-2e4b1d04e347",
   "metadata": {},
   "outputs": [],
   "source": [
    "average_price = total_price/len(prices)"
   ]
  },
  {
   "cell_type": "code",
   "execution_count": 61,
   "id": "37d21ee1-3b62-4788-bba8-7157b91bc112",
   "metadata": {},
   "outputs": [
    {
     "name": "stdout",
     "output_type": "stream",
     "text": [
      "Average Haircut Price:31.875\n"
     ]
    }
   ],
   "source": [
    "print('Average Haircut Price:' +str(average_price))"
   ]
  },
  {
   "cell_type": "code",
   "execution_count": 62,
   "id": "7f13ec7a-ec80-40c2-aa01-36df8edeb9f9",
   "metadata": {},
   "outputs": [],
   "source": [
    "new_prices = [i-5 for i in prices]"
   ]
  },
  {
   "cell_type": "code",
   "execution_count": 63,
   "id": "f4223025-da80-41aa-9ebb-45823c96df0c",
   "metadata": {},
   "outputs": [
    {
     "name": "stdout",
     "output_type": "stream",
     "text": [
      "[25, 20, 35, 15, 15, 30, 45, 30]\n"
     ]
    }
   ],
   "source": [
    "print(new_prices)"
   ]
  },
  {
   "cell_type": "code",
   "execution_count": 64,
   "id": "bd180b64-340a-4728-8ef5-ca9a5df8f746",
   "metadata": {},
   "outputs": [],
   "source": [
    "total_revenue = 0"
   ]
  },
  {
   "cell_type": "code",
   "execution_count": 65,
   "id": "cf95c6dc-edc3-4fb9-9f3b-eff62a910616",
   "metadata": {},
   "outputs": [],
   "source": [
    "for i in range(len(hairstyles)):\n",
    "    total_revenue = prices[i] + last_week[i]"
   ]
  },
  {
   "cell_type": "code",
   "execution_count": 66,
   "id": "dc7f2411-797a-4558-8063-c69b9c23f1ff",
   "metadata": {},
   "outputs": [
    {
     "name": "stdout",
     "output_type": "stream",
     "text": [
      "Total Revenue:37\n"
     ]
    }
   ],
   "source": [
    "print('Total Revenue:'+str(total_revenue))"
   ]
  },
  {
   "cell_type": "code",
   "execution_count": 67,
   "id": "f0600d76-11c1-4432-a0b1-fa4bf498b128",
   "metadata": {},
   "outputs": [],
   "source": [
    "average_daily_revenue = total_revenue/7"
   ]
  },
  {
   "cell_type": "code",
   "execution_count": 68,
   "id": "b3bf6dea-a86e-4df9-bc05-45bcf40c929c",
   "metadata": {},
   "outputs": [
    {
     "name": "stdout",
     "output_type": "stream",
     "text": [
      "5.285714285714286\n"
     ]
    }
   ],
   "source": [
    "print(average_daily_revenue)"
   ]
  },
  {
   "cell_type": "code",
   "execution_count": 69,
   "id": "c4d2f6b4-c90d-4ed8-99df-d907e6f43a87",
   "metadata": {},
   "outputs": [],
   "source": [
    "cuts_under_30 = [hairstyles[i] for i in range(len(new_prices)-1) if new_prices[i] < 30]"
   ]
  },
  {
   "cell_type": "code",
   "execution_count": 70,
   "id": "b78f6311-e057-4d7a-b3d6-a63a5864c045",
   "metadata": {},
   "outputs": [
    {
     "name": "stdout",
     "output_type": "stream",
     "text": [
      "['bouffant', 'pixie', 'crew', 'bowl']\n"
     ]
    }
   ],
   "source": [
    "print(cuts_under_30)"
   ]
  }
 ],
 "metadata": {
  "kernelspec": {
   "display_name": "Python 3",
   "language": "python",
   "name": "python3"
  },
  "language_info": {
   "codemirror_mode": {
    "name": "ipython",
    "version": 3
   },
   "file_extension": ".py",
   "mimetype": "text/x-python",
   "name": "python",
   "nbconvert_exporter": "python",
   "pygments_lexer": "ipython3",
   "version": "3.8.8"
  }
 },
 "nbformat": 4,
 "nbformat_minor": 5
}
