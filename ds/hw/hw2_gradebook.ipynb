{
 "cells": [
  {
   "cell_type": "code",
   "execution_count": 55,
   "id": "fc8ba831-8e48-4795-9bb6-e5eb81c18d09",
   "metadata": {},
   "outputs": [],
   "source": [
    "last_semester_gradebook = [[\"politics\",80], [\"latin\", 96], [\"dance\", 97], [\"architecture\", 65]] #10"
   ]
  },
  {
   "cell_type": "code",
   "execution_count": 56,
   "id": "316faaf5-7a64-493d-850d-b0e0e4ce8e3e",
   "metadata": {},
   "outputs": [],
   "source": [
    "subjects = [\"physics\",\"calculus\",\"poetry\",\"history\"] #1"
   ]
  },
  {
   "cell_type": "code",
   "execution_count": 57,
   "id": "2eeb6be2-b5f8-45e2-9f9d-5908c1fddbe1",
   "metadata": {},
   "outputs": [],
   "source": [
    "grades =[98,97,85,88] #2"
   ]
  },
  {
   "cell_type": "code",
   "execution_count": 58,
   "id": "044a44c1-8504-46c3-a394-07a011443cc2",
   "metadata": {},
   "outputs": [],
   "source": [
    "gradebook = [[\"physics\", 98], [\"calculus\",97], [\"poetry\", 85], [\"history\", 88]] #3"
   ]
  },
  {
   "cell_type": "code",
   "execution_count": 59,
   "id": "f41ee20d-d421-4d03-84a4-5c5287f78d62",
   "metadata": {},
   "outputs": [
    {
     "name": "stdout",
     "output_type": "stream",
     "text": [
      "[['physics', 98], ['calculus', 97], ['poetry', 85], ['history', 88]]\n"
     ]
    }
   ],
   "source": [
    "print(gradebook) #4"
   ]
  },
  {
   "cell_type": "code",
   "execution_count": 60,
   "id": "2bae9b32-4e37-4912-92e0-f23853c0a3c9",
   "metadata": {},
   "outputs": [],
   "source": [
    "gradebook.append([\"computer science\",100]) #5"
   ]
  },
  {
   "cell_type": "code",
   "execution_count": 61,
   "id": "b0e316a9-1769-4f2f-a3ca-839f314f6424",
   "metadata": {},
   "outputs": [],
   "source": [
    "gradebook.append([\"visual arts\", 93]) #6"
   ]
  },
  {
   "cell_type": "code",
   "execution_count": 62,
   "id": "0628beb1-05da-418a-bd22-17f689a3d30a",
   "metadata": {},
   "outputs": [],
   "source": [
    "gradebook[5] = [\"visual arts\", 98] #7"
   ]
  },
  {
   "cell_type": "code",
   "execution_count": 63,
   "id": "2026974a-cde4-4889-84f8-9d98c5a73959",
   "metadata": {},
   "outputs": [],
   "source": [
    "gradebook[2].remove(85)"
   ]
  },
  {
   "cell_type": "code",
   "execution_count": 64,
   "id": "7f01bf74-5e7f-4aa3-b041-fc03d39db4d5",
   "metadata": {},
   "outputs": [],
   "source": [
    "gradebook[2].append(\"Pass\")"
   ]
  },
  {
   "cell_type": "code",
   "execution_count": 65,
   "id": "5bf65e2c-d0f2-408c-b6c8-57182ae2be3f",
   "metadata": {},
   "outputs": [],
   "source": [
    "full_gradebook = last_semester_gradebook + gradebook"
   ]
  },
  {
   "cell_type": "code",
   "execution_count": 66,
   "id": "cb4a9e16-3a50-4674-b442-b4b6c2661020",
   "metadata": {},
   "outputs": [
    {
     "name": "stdout",
     "output_type": "stream",
     "text": [
      "[['politics', 80], ['latin', 96], ['dance', 97], ['architecture', 65], ['physics', 98], ['calculus', 97], ['poetry', 'Pass'], ['history', 88], ['computer science', 100], ['visual arts', 98]]\n"
     ]
    }
   ],
   "source": [
    "print(full_gradebook)"
   ]
  }
 ],
 "metadata": {
  "kernelspec": {
   "display_name": "Python 3",
   "language": "python",
   "name": "python3"
  },
  "language_info": {
   "codemirror_mode": {
    "name": "ipython",
    "version": 3
   },
   "file_extension": ".py",
   "mimetype": "text/x-python",
   "name": "python",
   "nbconvert_exporter": "python",
   "pygments_lexer": "ipython3",
   "version": "3.8.8"
  }
 },
 "nbformat": 4,
 "nbformat_minor": 5
}
