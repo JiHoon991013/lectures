{
 "cells": [
  {
   "cell_type": "code",
   "execution_count": 61,
   "id": "1810d4e6",
   "metadata": {},
   "outputs": [
    {
     "name": "stdout",
     "output_type": "stream",
     "text": [
      "['쌍', '쇠', '복', '돌', '팽', '육', '쌍', '개', '칠', '갑', '삼', '방']\n"
     ]
    }
   ],
   "source": [
    "a = ['쌍', '쇠', '복', '돌', '팽', '육', '쌍', '개', '칠', '갑', '삼', '방']\n",
    "\n",
    "print(a)"
   ]
  },
  {
   "cell_type": "code",
   "execution_count": 62,
   "id": "25cb5d1b",
   "metadata": {},
   "outputs": [
    {
     "name": "stdout",
     "output_type": "stream",
     "text": [
      "['봉', '구', '욕', '포', '똥', '삼', '식', '석', '놈', '님', '년', '돌', '단', '득', '방', '질', '걸', '래', '룡', '동', '순', '자박', '창', '언', '것', '포', '만', '단', '국']\n"
     ]
    }
   ],
   "source": [
    "b = ['봉', '구', '욕', '포', '똥', '삼', '식', '석', '놈', '님', '년', '돌', '단', '득','방', '질','걸', '래', '룡', '동', '순', '자' \n",
    "      '박', '창', '언', '것', '포', '만', '단', '국']\n",
    "\n",
    "print(b)"
   ]
  },
  {
   "cell_type": "code",
   "execution_count": 63,
   "id": "02da1fc8",
   "metadata": {},
   "outputs": [],
   "source": [
    "family_name = '남궁'"
   ]
  },
  {
   "cell_type": "code",
   "execution_count": 77,
   "id": "d182ae2d",
   "metadata": {},
   "outputs": [
    {
     "name": "stdout",
     "output_type": "stream",
     "text": [
      "당신의 조선시대 이름은 남궁갑단입니다. \n"
     ]
    }
   ],
   "source": [
    "def get_my_chosun_name(family_name, month, day):\n",
    "    print(\"당신의 조선시대 이름은 %s%s%s입니다. \" %(family_name, a[month-1], b[day-1]))\n",
    "       \n",
    "get_my_chosun_name(family_name,10,13)"
   ]
  }
 ],
 "metadata": {
  "kernelspec": {
   "display_name": "Python 3",
   "language": "python",
   "name": "python3"
  },
  "language_info": {
   "codemirror_mode": {
    "name": "ipython",
    "version": 3
   },
   "file_extension": ".py",
   "mimetype": "text/x-python",
   "name": "python",
   "nbconvert_exporter": "python",
   "pygments_lexer": "ipython3",
   "version": "3.8.8"
  }
 },
 "nbformat": 4,
 "nbformat_minor": 5
}
