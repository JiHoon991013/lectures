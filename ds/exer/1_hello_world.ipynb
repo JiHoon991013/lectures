{
 "cells": [
  {
   "cell_type": "code",
   "execution_count": 6,
   "id": "f6d196a7-ee8b-4811-9a6c-1f185b61c8c9",
   "metadata": {},
   "outputs": [
    {
     "name": "stdout",
     "output_type": "stream",
     "text": [
      "Hello World\n",
      "100\n",
      "3.14\n",
      "My name is JiHoon NamGung\n"
     ]
    }
   ],
   "source": [
    "\"\"\"\n",
    "print() function\n",
    "\"\"\"\n",
    "\n",
    "print(\"Hello World\")\n",
    "print(100)\n",
    "pi = 3.14\n",
    "print(pi)\n",
    "\n",
    "intro = \"My name is \"\n",
    "name = \"JiHoon NamGung\"\n",
    "\n",
    "print(intro + name) "
   ]
  },
  {
   "cell_type": "code",
   "execution_count": 7,
   "id": "56a9e005-bbd6-4038-9da1-820ce0f87a77",
   "metadata": {},
   "outputs": [],
   "source": [
    "\"\"\"\n",
    "Variables\n",
    "\"\"\"\n",
    "\n",
    "user_name = \"JiHoon NamGung\"\n",
    "used_id = 201855033\n",
    "user_email = \"ngjh402@naver.com\"\n",
    "user_age = 23"
   ]
  },
  {
   "cell_type": "code",
   "execution_count": 8,
   "id": "0127903e-0c0c-4c98-84d1-f170fa8f77e9",
   "metadata": {},
   "outputs": [],
   "source": [
    "\"\"\"\n",
    "Date Types: Integers\n",
    "\"\"\"\n",
    "\n",
    "chairs = 6\n",
    "table = 3\n",
    "bed = 2\n",
    "bookself = 3"
   ]
  },
  {
   "cell_type": "code",
   "execution_count": 9,
   "id": "597c34a4-291a-4af7-9f0f-218a2075b05d",
   "metadata": {},
   "outputs": [],
   "source": [
    "\"\"\"\n",
    "Data Types : Real Numbers\n",
    "\"\"\"\n",
    "\n",
    "PI = 3.14\n",
    "kospi_index = 3125.76\n",
    "krw_usd_exchange = 1176.83"
   ]
  },
  {
   "cell_type": "code",
   "execution_count": 10,
   "id": "ac5a57d6-b18f-4f07-a7b8-e73883037a90",
   "metadata": {},
   "outputs": [
    {
     "name": "stdout",
     "output_type": "stream",
     "text": [
      "FIFA 22\n",
      "Sonny\n",
      "Avengers: Endgame\n",
      "FIFA 22SonnyAvengers: Endgame\n"
     ]
    }
   ],
   "source": [
    "\"\"\"\n",
    "\n",
    "Date Types: Strings\n",
    "\"\"\"\n",
    "favorite_game = \"FIFA 22\"\n",
    "favorite_athlete = 'Sonny'\n",
    "favorite_movie = \"Avengers: Endgame\"\n",
    "\n",
    "print(favorite_game)\n",
    "print(favorite_athlete)\n",
    "print(favorite_movie)\n",
    "\n",
    "favorites = favorite_game + favorite_athlete + favorite_movie\n",
    "\n",
    "print(favorites)\n",
    "\n"
   ]
  },
  {
   "cell_type": "code",
   "execution_count": 11,
   "id": "fe257f1a-6793-415d-91b3-80dc0b3b0d3d",
   "metadata": {},
   "outputs": [
    {
     "name": "stdout",
     "output_type": "stream",
     "text": [
      "8\n"
     ]
    }
   ],
   "source": [
    "\"\"\"\n",
    "\n",
    "x-Equals Operations\n",
    "\"\"\"\n",
    "\n",
    "a = 2\n",
    "a **= 3\n",
    "print(a)\n",
    "\n"
   ]
  },
  {
   "cell_type": "code",
   "execution_count": 13,
   "id": "de43732f-277a-43ce-991b-c2a5dd2848bc",
   "metadata": {
    "tags": []
   },
   "outputs": [
    {
     "ename": "NameError",
     "evalue": "name 'my_name' is not defined",
     "output_type": "error",
     "traceback": [
      "\u001b[1;31m---------------------------------------------------------------------------\u001b[0m",
      "\u001b[1;31mNameError\u001b[0m                                 Traceback (most recent call last)",
      "\u001b[1;32m<ipython-input-13-28fb8d5f4452>\u001b[0m in \u001b[0;36m<module>\u001b[1;34m\u001b[0m\n\u001b[0;32m      5\u001b[0m \u001b[1;31m# Name Erorr\u001b[0m\u001b[1;33m\u001b[0m\u001b[1;33m\u001b[0m\u001b[1;33m\u001b[0m\u001b[0m\n\u001b[0;32m      6\u001b[0m \u001b[1;33m\u001b[0m\u001b[0m\n\u001b[1;32m----> 7\u001b[1;33m \u001b[0mprint\u001b[0m\u001b[1;33m(\u001b[0m\u001b[0mmy_name\u001b[0m\u001b[1;33m)\u001b[0m\u001b[1;33m\u001b[0m\u001b[1;33m\u001b[0m\u001b[0m\n\u001b[0m\u001b[0;32m      8\u001b[0m \u001b[0mmy_name\u001b[0m \u001b[1;33m=\u001b[0m \u001b[1;34m\"JiHoon NamGung\"\u001b[0m\u001b[1;33m\u001b[0m\u001b[1;33m\u001b[0m\u001b[0m\n\u001b[0;32m      9\u001b[0m \u001b[1;33m\u001b[0m\u001b[0m\n",
      "\u001b[1;31mNameError\u001b[0m: name 'my_name' is not defined"
     ]
    }
   ],
   "source": [
    "\"\"\"\n",
    "Erorrs\n",
    "\"\"\"\n",
    "\n",
    "# Name Erorr\n",
    "\n",
    "print(my_name)\n",
    "my_name = \"JiHoon NamGung\"\n",
    "\n",
    "\n"
   ]
  },
  {
   "cell_type": "code",
   "execution_count": null,
   "id": "0c371978-e93b-49df-89a2-98e20703e307",
   "metadata": {
    "tags": []
   },
   "outputs": [],
   "source": []
  }
 ],
 "metadata": {
  "kernelspec": {
   "display_name": "Python 3",
   "language": "python",
   "name": "python3"
  },
  "language_info": {
   "codemirror_mode": {
    "name": "ipython",
    "version": 3
   },
   "file_extension": ".py",
   "mimetype": "text/x-python",
   "name": "python",
   "nbconvert_exporter": "python",
   "pygments_lexer": "ipython3",
   "version": "3.8.8"
  }
 },
 "nbformat": 4,
 "nbformat_minor": 5
}
