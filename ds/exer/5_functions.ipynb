{
 "cells": [
  {
   "cell_type": "code",
   "execution_count": 2,
   "id": "74d9bac9",
   "metadata": {},
   "outputs": [
    {
     "name": "stdout",
     "output_type": "stream",
     "text": [
      "4\n"
     ]
    },
    {
     "data": {
      "text/plain": [
       "2"
      ]
     },
     "execution_count": 2,
     "metadata": {},
     "output_type": "execute_result"
    }
   ],
   "source": [
    "\"\"\"\n",
    "Functions vs Method\n",
    "\"\"\"\n",
    "\n",
    "def my_function(x):\n",
    "    return x+1\n",
    "\n",
    "y=3\n",
    "result = my_function(y)\n",
    "print(result)\n",
    "\n",
    "x= 1\n",
    "\n",
    "class my_class:\n",
    "     def my_method(self):\n",
    "        return x+1\n",
    "    \n",
    "cls = my_class()\n",
    "cls.my_method()\n"
   ]
  },
  {
   "cell_type": "code",
   "execution_count": 4,
   "id": "a6b55410",
   "metadata": {},
   "outputs": [
    {
     "name": "stdout",
     "output_type": "stream",
     "text": [
      "Hello everyone, My name is JiHoon NamGung, I was born in 1999, and I live in Gwangmyeong.\n"
     ]
    }
   ],
   "source": [
    "\"\"\"\n",
    "Functions vs Method\n",
    "\"\"\"\n",
    "def introduce_myself(name, birthyear, city): #parameter\n",
    "    print(\"Hello everyone, My name is %s, I was born in %d, and I live in %s.\" \\\n",
    "          % (name, birthyear, city))\n",
    "            \n",
    "introduce_myself(\"JiHoon NamGung\", 1999, \"Gwangmyeong\") #argument\n"
   ]
  },
  {
   "cell_type": "code",
   "execution_count": 1,
   "id": "04a4a9ac-c989-475d-9496-f0d4977bf490",
   "metadata": {},
   "outputs": [
    {
     "data": {
      "text/plain": [
       "'2020 is a leap year.'"
      ]
     },
     "execution_count": 1,
     "metadata": {},
     "output_type": "execute_result"
    }
   ],
   "source": [
    "\"\"\"\n",
    "Return Keyword\n",
    "\"\"\"\n",
    "\n",
    "# Leap year = 윤년 (2월29일)\n",
    "def check_leap_year(year):\n",
    "    if year % 4 == 0:\n",
    "        return \"%s is a leap year.\" %(year)\n",
    "    else: \n",
    "        return \"%s is not a leap year.\" %(year)\n",
    "    \n",
    "check_leap_year(2020)"
   ]
  },
  {
   "cell_type": "code",
   "execution_count": 5,
   "id": "73cde0be-3c5d-4ce7-9c55-e6398fcaad8d",
   "metadata": {},
   "outputs": [
    {
     "name": "stdout",
     "output_type": "stream",
     "text": [
      "9 16 25\n"
     ]
    }
   ],
   "source": [
    "\"\"\"\n",
    "Returning Multiple Values\n",
    "\"\"\"\n",
    "\n",
    "def square_point(x, y, z):\n",
    "    x_sqaured = x ** 2\n",
    "    y_sqaured = y ** 2\n",
    "    z_sqaured = z ** 2\n",
    "    return x_sqaured, y_sqaured, z_sqaured\n",
    "\n",
    "three_sqaured, four_sqaured, five_sqaured = square_point(3, 4, 5)\n",
    "print(three_sqaured, four_sqaured, five_sqaured)"
   ]
  },
  {
   "cell_type": "code",
   "execution_count": 9,
   "id": "53a9b49b-3530-4c55-986f-0468794074e9",
   "metadata": {},
   "outputs": [
    {
     "name": "stdout",
     "output_type": "stream",
     "text": [
      "Hello\n",
      "Hello\n"
     ]
    }
   ],
   "source": [
    "\"\"\"\n",
    "Global Variables\n",
    "\"\"\"\n",
    "\n",
    "a = \"Hello\" #gloval var.\n",
    "\n",
    "def prints_a():\n",
    "    print(a)\n",
    "    \n",
    "    \n",
    "print(a)    \n",
    "prints_a()"
   ]
  },
  {
   "cell_type": "code",
   "execution_count": 13,
   "id": "47e73d5d-7597-496f-95d0-fdfd5495367d",
   "metadata": {},
   "outputs": [
    {
     "name": "stdout",
     "output_type": "stream",
     "text": [
      "2\n"
     ]
    }
   ],
   "source": [
    "\"\"\"\n",
    "Local Variables\n",
    "\"\"\"\n",
    "b = 2 # gloval var.\n",
    "\n",
    "def f1():\n",
    "   # b = 3 # Local var.\n",
    "    print(b)\n",
    "    \n",
    "f1()\n"
   ]
  },
  {
   "cell_type": "code",
   "execution_count": 15,
   "id": "623ead38-b56a-4baa-8ac8-3e9e826a11b5",
   "metadata": {},
   "outputs": [
    {
     "name": "stdout",
     "output_type": "stream",
     "text": [
      "Height = 1\n",
      "Width = 2\n",
      "Depth = 4\n",
      "8\n"
     ]
    }
   ],
   "source": [
    "\"\"\"\n",
    "Keyword Arguments and Default Values\n",
    "\"\"\"\n",
    "\n",
    "def findvolume(height, width, depth):\n",
    "    print(\"Height = %s\" % (height))\n",
    "    print(\"Width = %s\" % (width))\n",
    "    print(\"Depth = %s\" % (depth))\n",
    "    return height * width * depth\n",
    "\n",
    "# ex : height = 1, width = 2, depth = 3\n",
    "print(findvolume(width= 2, height=1, depth=4))\n"
   ]
  },
  {
   "cell_type": "code",
   "execution_count": null,
   "id": "100f820d-cdeb-4a3d-beba-0f76bc300fc5",
   "metadata": {},
   "outputs": [],
   "source": []
  }
 ],
 "metadata": {
  "kernelspec": {
   "display_name": "Python 3",
   "language": "python",
   "name": "python3"
  },
  "language_info": {
   "codemirror_mode": {
    "name": "ipython",
    "version": 3
   },
   "file_extension": ".py",
   "mimetype": "text/x-python",
   "name": "python",
   "nbconvert_exporter": "python",
   "pygments_lexer": "ipython3",
   "version": "3.8.8"
  }
 },
 "nbformat": 4,
 "nbformat_minor": 5
}
