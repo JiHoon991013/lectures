{
 "cells": [
  {
   "cell_type": "code",
   "execution_count": 3,
   "id": "ff681c11-38b3-4972-bab4-16f4bf93a318",
   "metadata": {},
   "outputs": [
    {
     "name": "stdout",
     "output_type": "stream",
     "text": [
      "<class 'bool'>\n",
      "<class 'str'>\n"
     ]
    }
   ],
   "source": [
    "\"\"\"\n",
    "boolean variables\n",
    "\"\"\"\n",
    "\n",
    "\n",
    "is_tested = False\n",
    "print(type(is_tested))\n",
    "\n",
    "a= \"3.14\"\n",
    "print(type(a))"
   ]
  },
  {
   "cell_type": "code",
   "execution_count": 7,
   "id": "97c78fde-cd6d-4f7b-9a76-a193198c5685",
   "metadata": {},
   "outputs": [
    {
     "name": "stdout",
     "output_type": "stream",
     "text": [
      "말티즈.\n",
      "말티즈 새끼.\n",
      "True\n"
     ]
    }
   ],
   "source": [
    "\"\"\"\n",
    "Conditional statementes (if / elif / else)\n",
    "\"\"\"\n",
    "\n",
    "puppy = \"maltese\"\n",
    "age = 1\n",
    "is_yes = False\n",
    "\n",
    "if puppy == \"maltese\":\n",
    "    print(\"말티즈.\")\n",
    "    is_yes = True\n",
    "    \n",
    "    if age < 3:\n",
    "        print(\"말티즈 새끼.\")\n",
    "    \n",
    "elif puppy == \"poodle\":\n",
    "    print(\"푸들.\")\n",
    "    is_yes = True\n",
    "    \n",
    "elif puppy == 'shitzu':\n",
    "    print(\"시츄.\")\n",
    "    is_yes == True\n",
    "    \n",
    "else: \n",
    "    print(\"말티푸.\")\n",
    "    is_yes = True\n",
    "\n",
    "print(is_yes)"
   ]
  },
  {
   "cell_type": "code",
   "execution_count": 8,
   "id": "6c1dfe4f-7816-4417-9bcd-a192edde1603",
   "metadata": {},
   "outputs": [
    {
     "name": "stdout",
     "output_type": "stream",
     "text": [
      "[Error]\n",
      "continue\n"
     ]
    }
   ],
   "source": [
    "\"\"\"\n",
    "Exception Handling\n",
    "\"\"\"\n",
    "\n",
    "x = 1\n",
    "try:\n",
    "    print(y)\n",
    "    print(x)\n",
    "    \n",
    "except:\n",
    "    print('[Error]')\n",
    "    \n",
    "print('continue')"
   ]
  },
  {
   "cell_type": "code",
   "execution_count": null,
   "id": "ba15a609-1dff-4ced-aec0-7c6e5d9e7a34",
   "metadata": {},
   "outputs": [],
   "source": []
  }
 ],
 "metadata": {
  "kernelspec": {
   "display_name": "Python 3",
   "language": "python",
   "name": "python3"
  },
  "language_info": {
   "codemirror_mode": {
    "name": "ipython",
    "version": 3
   },
   "file_extension": ".py",
   "mimetype": "text/x-python",
   "name": "python",
   "nbconvert_exporter": "python",
   "pygments_lexer": "ipython3",
   "version": "3.8.8"
  }
 },
 "nbformat": 4,
 "nbformat_minor": 5
}
