{
 "cells": [
  {
   "cell_type": "code",
   "execution_count": 1,
   "id": "9c1ce93e",
   "metadata": {},
   "outputs": [],
   "source": [
    "import pandas as pd\n",
    "import numpy as np"
   ]
  },
  {
   "cell_type": "code",
   "execution_count": 2,
   "id": "4a86ff24",
   "metadata": {},
   "outputs": [],
   "source": [
    "# Display the help document\n",
    "pd?"
   ]
  },
  {
   "cell_type": "code",
   "execution_count": 3,
   "id": "166d0a56",
   "metadata": {},
   "outputs": [
    {
     "data": {
      "text/plain": [
       "'1.2.4'"
      ]
     },
     "execution_count": 3,
     "metadata": {},
     "output_type": "execute_result"
    }
   ],
   "source": [
    "# Print the version of pandas\n",
    "pd.__version__"
   ]
  },
  {
   "cell_type": "code",
   "execution_count": 5,
   "id": "73274d29",
   "metadata": {},
   "outputs": [
    {
     "name": "stdout",
     "output_type": "stream",
     "text": [
      "0    0.25\n",
      "1    0.50\n",
      "2    0.75\n",
      "3    1.00\n",
      "dtype: float64\n"
     ]
    }
   ],
   "source": [
    "\"\"\"\n",
    "\n",
    "    Pandas Objects: Series\n",
    "\"\"\"\n",
    "# Create a series form an array\n",
    "\n",
    "ser = pd.Series([0.25, 0.5, 0.75, 1.0]) # contructor method\n",
    "print(ser)"
   ]
  },
  {
   "cell_type": "code",
   "execution_count": 6,
   "id": "d1995cfa",
   "metadata": {},
   "outputs": [
    {
     "name": "stdout",
     "output_type": "stream",
     "text": [
      "[0.25 0.5  0.75 1.  ]\n",
      "RangeIndex(start=0, stop=4, step=1)\n"
     ]
    }
   ],
   "source": [
    "# Two main attributes: 'values' and 'index'\n",
    "\n",
    "arr = ser.values\n",
    "print(arr)\n",
    "\n",
    "ind = ser.index\n",
    "print(ind)"
   ]
  },
  {
   "cell_type": "code",
   "execution_count": 7,
   "id": "e6d67ce5",
   "metadata": {},
   "outputs": [
    {
     "name": "stdout",
     "output_type": "stream",
     "text": [
      "a    0.25\n",
      "b    0.50\n",
      "c    0.75\n",
      "d    1.00\n",
      "dtype: float64\n",
      "Index(['a', 'b', 'c', 'd'], dtype='object')\n"
     ]
    }
   ],
   "source": [
    "# Label - based Indexing\n",
    "ser = pd.Series([0.25, 0.5, 0.75, 1.0], index = ['a', 'b', 'c', 'd'])\n",
    "print(ser)\n",
    "ind = ser.index\n",
    "print(ind)"
   ]
  },
  {
   "cell_type": "code",
   "execution_count": 8,
   "id": "f7c59e03",
   "metadata": {},
   "outputs": [
    {
     "name": "stdout",
     "output_type": "stream",
     "text": [
      "{'a': 1, 2: 'two', 'third': True}\n"
     ]
    }
   ],
   "source": [
    "\"\"\"\n",
    "Dictionary and Series\n",
    "\"\"\"\n",
    "\n",
    "dict = {'a' : 1, 2: 'two', 'third' : True}\n",
    "print(dict)\n"
   ]
  },
  {
   "cell_type": "code",
   "execution_count": 15,
   "id": "a933e0c4",
   "metadata": {},
   "outputs": [
    {
     "name": "stdout",
     "output_type": "stream",
     "text": [
      "California     38332521\n",
      "Texas         264484193\n",
      "New York       19651127\n",
      "Florida        19552860\n",
      "Illinois       12882135\n",
      "dtype: int64\n",
      "Texas       264484193\n",
      "New York     19651127\n",
      "Florida      19552860\n",
      "Illinois     12882135\n",
      "dtype: int64\n"
     ]
    }
   ],
   "source": [
    "\"\"\"\n",
    "Create a series from a dictionary\n",
    "\"\"\"\n",
    "\n",
    "population_dict = {'California' : 38332521,\n",
    "                  'Texas' : 264484193,\n",
    "                  'New York' : 19651127,\n",
    "                  'Florida' : 19552860,\n",
    "                  'Illinois' : 12882135}\n",
    "population = pd.Series(population_dict)\n",
    "print(population)\n",
    "\n",
    "print(population['Texas' : 'Illinois'])\n"
   ]
  },
  {
   "cell_type": "code",
   "execution_count": 18,
   "id": "1f9d065c",
   "metadata": {},
   "outputs": [
    {
     "name": "stdout",
     "output_type": "stream",
     "text": [
      "California    423967\n",
      "Texas         695662\n",
      "New York      141297\n",
      "Florida       170312\n",
      "Illinois      149995\n",
      "dtype: int64\n"
     ]
    }
   ],
   "source": [
    "\"\"\"\n",
    "        Pandas objects : DataFrame\n",
    "\"\"\"\n",
    "\n",
    "area_dict = {'California' : 423967,'Texas' : 695662,'New York' : 141297,\n",
    "            'Florida' : 170312,'Illinois' : 149995}\n",
    "\n",
    "area = pd.Series(area_dict)\n",
    "print(area)"
   ]
  },
  {
   "cell_type": "code",
   "execution_count": 23,
   "id": "627ce8bf",
   "metadata": {},
   "outputs": [
    {
     "name": "stdout",
     "output_type": "stream",
     "text": [
      "            population    area\n",
      "California    38332521  423967\n",
      "Texas        264484193  695662\n",
      "New York      19651127  141297\n",
      "Florida       19552860  170312\n",
      "Illinois      12882135  149995\n",
      "Index(['California', 'Texas', 'New York', 'Florida', 'Illinois'], dtype='object')\n",
      "Index(['population', 'area'], dtype='object')\n",
      "California    423967\n",
      "Texas         695662\n",
      "New York      141297\n",
      "Florida       170312\n",
      "Illinois      149995\n",
      "Name: area, dtype: int64\n"
     ]
    }
   ],
   "source": [
    "# Construct a DataFrame containing 'population' and 'area' Series\n",
    "\n",
    "states = pd.DataFrame({'population': population, 'area':area})\n",
    "print(states)\n",
    "\n",
    "print(states.index)\n",
    "print(states.columns)\n",
    "print(states['area'])"
   ]
  },
  {
   "cell_type": "code",
   "execution_count": 24,
   "id": "5a4590a3",
   "metadata": {},
   "outputs": [
    {
     "name": "stdout",
     "output_type": "stream",
     "text": [
      "[[0.30107553 0.52639594]\n",
      " [0.70719426 0.92352613]\n",
      " [0.59141862 0.79921576]] |n\n"
     ]
    },
    {
     "data": {
      "text/html": [
       "<div>\n",
       "<style scoped>\n",
       "    .dataframe tbody tr th:only-of-type {\n",
       "        vertical-align: middle;\n",
       "    }\n",
       "\n",
       "    .dataframe tbody tr th {\n",
       "        vertical-align: top;\n",
       "    }\n",
       "\n",
       "    .dataframe thead th {\n",
       "        text-align: right;\n",
       "    }\n",
       "</style>\n",
       "<table border=\"1\" class=\"dataframe\">\n",
       "  <thead>\n",
       "    <tr style=\"text-align: right;\">\n",
       "      <th></th>\n",
       "      <th>foo</th>\n",
       "      <th>bar</th>\n",
       "    </tr>\n",
       "  </thead>\n",
       "  <tbody>\n",
       "    <tr>\n",
       "      <th>a</th>\n",
       "      <td>0.301076</td>\n",
       "      <td>0.526396</td>\n",
       "    </tr>\n",
       "    <tr>\n",
       "      <th>b</th>\n",
       "      <td>0.707194</td>\n",
       "      <td>0.923526</td>\n",
       "    </tr>\n",
       "    <tr>\n",
       "      <th>c</th>\n",
       "      <td>0.591419</td>\n",
       "      <td>0.799216</td>\n",
       "    </tr>\n",
       "  </tbody>\n",
       "</table>\n",
       "</div>"
      ],
      "text/plain": [
       "        foo       bar\n",
       "a  0.301076  0.526396\n",
       "b  0.707194  0.923526\n",
       "c  0.591419  0.799216"
      ]
     },
     "execution_count": 24,
     "metadata": {},
     "output_type": "execute_result"
    }
   ],
   "source": [
    "# Construct a DataFrame from a 2D Numpy array\n",
    "arr = np.random.rand(3, 2)\n",
    "print(arr, '|n')\n",
    "\n",
    "pd.DataFrame(arr, columns = ['foo', 'bar'], index=['a', 'b', 'c'])"
   ]
  },
  {
   "cell_type": "code",
   "execution_count": 28,
   "id": "c34b4841",
   "metadata": {},
   "outputs": [
    {
     "name": "stdout",
     "output_type": "stream",
     "text": [
      "False\n",
      "Index(['a', 'b', 'c', 'd'], dtype='object')\n"
     ]
    }
   ],
   "source": [
    "\"\"\"\n",
    "Series object manipulation: dictinoary-style\n",
    "\"\"\"\n",
    "ser = pd.Series([0.25, 0.5, 0.75, 1.0], \n",
    "                index = ['a', 'b', 'c', 'd'])\n",
    "\n",
    "print(0.25 in ser)\n",
    "print(ser.index)"
   ]
  },
  {
   "cell_type": "code",
   "execution_count": 30,
   "id": "4ec956cb",
   "metadata": {},
   "outputs": [
    {
     "name": "stdout",
     "output_type": "stream",
     "text": [
      "a    0.125\n",
      "b    0.500\n",
      "c    0.750\n",
      "d    1.000\n",
      "e    1.250\n",
      "dtype: float64 |n\n",
      "a    0.125\n",
      "b    0.500\n",
      "c    0.750\n",
      "dtype: float64 |n\n"
     ]
    }
   ],
   "source": [
    "\"\"\"\n",
    "Series object manipulation: array-style\n",
    "\"\"\"\n",
    "\n",
    "ser['e'] = 1.25\n",
    "ser['a'] = 0.125\n",
    "print(ser, '|n')\n",
    "\n",
    "print(ser['a':'c'],'|n') #slicing"
   ]
  },
  {
   "cell_type": "code",
   "execution_count": 32,
   "id": "72590972",
   "metadata": {},
   "outputs": [
    {
     "name": "stdout",
     "output_type": "stream",
     "text": [
      "            population    area     density\n",
      "California    38332521  423967   90.413926\n",
      "Texas        264484193  695662  380.190657\n",
      "New York      19651127  141297  139.076746\n",
      "Florida       19552860  170312  114.806121\n",
      "Illinois      12882135  149995   85.883763\n"
     ]
    }
   ],
   "source": [
    "\"\"\"\n",
    "Caution: Slicing Series object using explicit/implicit indexing\n",
    "\"\"\"\n",
    "\n",
    "\n",
    "\n",
    "states['density'] =states['population'] / states['area']\n",
    "print(states)"
   ]
  },
  {
   "cell_type": "code",
   "execution_count": null,
   "id": "933954cd",
   "metadata": {},
   "outputs": [],
   "source": [
    "\"\"\"\n",
    "DataFrame object manipulation\n",
    "\"\"\"\n",
    "\n",
    "\n"
   ]
  },
  {
   "cell_type": "code",
   "execution_count": 34,
   "id": "0bce411d",
   "metadata": {},
   "outputs": [
    {
     "name": "stdout",
     "output_type": "stream",
     "text": [
      "            population    area     density\n",
      "California    38332521  423967   90.413926\n",
      "Texas        264484193  695662  380.190657\n",
      "New York      19651127  141297  139.076746\n",
      "Florida       19552860  170312  114.806121\n",
      "Illinois      12882135  149995   85.883763\n"
     ]
    },
    {
     "data": {
      "text/html": [
       "<div>\n",
       "<style scoped>\n",
       "    .dataframe tbody tr th:only-of-type {\n",
       "        vertical-align: middle;\n",
       "    }\n",
       "\n",
       "    .dataframe tbody tr th {\n",
       "        vertical-align: top;\n",
       "    }\n",
       "\n",
       "    .dataframe thead th {\n",
       "        text-align: right;\n",
       "    }\n",
       "</style>\n",
       "<table border=\"1\" class=\"dataframe\">\n",
       "  <thead>\n",
       "    <tr style=\"text-align: right;\">\n",
       "      <th></th>\n",
       "      <th>population</th>\n",
       "      <th>area</th>\n",
       "      <th>density</th>\n",
       "    </tr>\n",
       "  </thead>\n",
       "  <tbody>\n",
       "    <tr>\n",
       "      <th>New York</th>\n",
       "      <td>19651127</td>\n",
       "      <td>141297</td>\n",
       "      <td>139.076746</td>\n",
       "    </tr>\n",
       "    <tr>\n",
       "      <th>Florida</th>\n",
       "      <td>19552860</td>\n",
       "      <td>170312</td>\n",
       "      <td>114.806121</td>\n",
       "    </tr>\n",
       "    <tr>\n",
       "      <th>Illinois</th>\n",
       "      <td>12882135</td>\n",
       "      <td>149995</td>\n",
       "      <td>85.883763</td>\n",
       "    </tr>\n",
       "  </tbody>\n",
       "</table>\n",
       "</div>"
      ],
      "text/plain": [
       "          population    area     density\n",
       "New York    19651127  141297  139.076746\n",
       "Florida     19552860  170312  114.806121\n",
       "Illinois    12882135  149995   85.883763"
      ]
     },
     "execution_count": 34,
     "metadata": {},
     "output_type": "execute_result"
    }
   ],
   "source": [
    "# Indexer: loc, iloc, ix\n",
    "\n",
    "print(states)\n",
    "\n",
    "states.loc['New York': 'Illinois']"
   ]
  },
  {
   "cell_type": "code",
   "execution_count": null,
   "id": "f1645479",
   "metadata": {},
   "outputs": [],
   "source": [
    "\"\"\"\n",
    "    DataFrame as two-dimensional array\n",
    "\"\"\"\n",
    "            "
   ]
  },
  {
   "cell_type": "code",
   "execution_count": 35,
   "id": "78555841",
   "metadata": {},
   "outputs": [
    {
     "name": "stdout",
     "output_type": "stream",
     "text": [
      "          population     density\n",
      "Texas      264484193  380.190657\n",
      "New York    19651127  139.076746\n",
      "Florida     19552860  114.806121 |n\n"
     ]
    }
   ],
   "source": [
    "# Masking and fancy indexinf using the loc indexer\n",
    "print(states.loc[states.density > 100, ['population', 'density']], '|n')"
   ]
  },
  {
   "cell_type": "code",
   "execution_count": null,
   "id": "aa7108be",
   "metadata": {},
   "outputs": [],
   "source": []
  }
 ],
 "metadata": {
  "kernelspec": {
   "display_name": "Python 3",
   "language": "python",
   "name": "python3"
  },
  "language_info": {
   "codemirror_mode": {
    "name": "ipython",
    "version": 3
   },
   "file_extension": ".py",
   "mimetype": "text/x-python",
   "name": "python",
   "nbconvert_exporter": "python",
   "pygments_lexer": "ipython3",
   "version": "3.8.8"
  }
 },
 "nbformat": 4,
 "nbformat_minor": 5
}
