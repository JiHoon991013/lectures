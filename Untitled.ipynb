{
 "cells": [
  {
   "cell_type": "code",
   "execution_count": 1,
   "id": "d2f24121-7390-4f84-ad0f-dc26cc9b7cef",
   "metadata": {},
   "outputs": [],
   "source": [
    "lovely_loveseat_description = \"\"\" Lovely loveseat. Tufted polyester blend on wood. 32 inches high * 40 inches wide * 30 inches deep. Red or white.\"\"\""
   ]
  },
  {
   "cell_type": "code",
   "execution_count": 2,
   "id": "32f155d8-e776-43a0-9b76-45fb37ffed7f",
   "metadata": {},
   "outputs": [],
   "source": [
    "lovely_loveseat_price = 254.00"
   ]
  },
  {
   "cell_type": "code",
   "execution_count": 3,
   "id": "544469cf-3f37-4f84-8d1e-6287ce56dcba",
   "metadata": {},
   "outputs": [],
   "source": [
    "stylish_settee_description = \"\"\"Stylish Settee. Faux leather on birch. 29.50 inches high * 54.75 inches * 28 inches deep. Black.\"\"\""
   ]
  },
  {
   "cell_type": "code",
   "execution_count": 4,
   "id": "2747e1bc-cd3a-4575-a3e2-36afbdf1f95b",
   "metadata": {},
   "outputs": [],
   "source": [
    "stylish_settee_price = 180.50"
   ]
  },
  {
   "cell_type": "code",
   "execution_count": 5,
   "id": "f2c0d660-3746-4767-a28f-187fce8141da",
   "metadata": {},
   "outputs": [],
   "source": [
    "luxurious_lamp_description = \"\"\"Luxurious Lamp. Glass and Iron. 36 inches tall. Brown with cream shade.\"\"\""
   ]
  },
  {
   "cell_type": "code",
   "execution_count": 6,
   "id": "ba52efe8-487a-4593-a9af-bd59c376392f",
   "metadata": {},
   "outputs": [],
   "source": [
    "luxurious_lamp_price = 52.15"
   ]
  },
  {
   "cell_type": "code",
   "execution_count": 7,
   "id": "5d95d69e-c528-4b7c-9947-735f68c18922",
   "metadata": {},
   "outputs": [],
   "source": [
    "sales_tax = 0.088"
   ]
  },
  {
   "cell_type": "code",
   "execution_count": 8,
   "id": "75eb1490-6e3d-4a06-974d-82e921cf77e4",
   "metadata": {},
   "outputs": [],
   "source": [
    "customer_one_total = 0"
   ]
  },
  {
   "cell_type": "code",
   "execution_count": 9,
   "id": "fa1b570d-ee31-4e4a-9771-0011550b8fbd",
   "metadata": {},
   "outputs": [],
   "source": [
    "customer_one_itemization = \"\""
   ]
  },
  {
   "cell_type": "code",
   "execution_count": 10,
   "id": "9b4b0490-a433-452c-857c-163efc8561ea",
   "metadata": {},
   "outputs": [],
   "source": [
    "customer_one_total += lovely_loveseat_price"
   ]
  },
  {
   "cell_type": "code",
   "execution_count": 11,
   "id": "676136b0-24f4-4ba3-bc5f-e5be44750a98",
   "metadata": {},
   "outputs": [],
   "source": [
    "customer_one_itemization += lovely_loveseat_description"
   ]
  },
  {
   "cell_type": "code",
   "execution_count": 12,
   "id": "dd2e8c7f-c377-4b82-8da3-59edb4af41c2",
   "metadata": {},
   "outputs": [],
   "source": [
    "customer_one_total += luxurious_lamp_price"
   ]
  },
  {
   "cell_type": "code",
   "execution_count": 13,
   "id": "1dfb2138-5415-4081-89b6-c17a4f046de0",
   "metadata": {},
   "outputs": [],
   "source": [
    "customer_one_itemization += luxurious_lamp_description"
   ]
  },
  {
   "cell_type": "code",
   "execution_count": 14,
   "id": "8d21d2c1-b20b-4b16-913f-33b300b07867",
   "metadata": {},
   "outputs": [],
   "source": [
    "customer_one_tax = customer_one_total * sales_tax"
   ]
  },
  {
   "cell_type": "code",
   "execution_count": 15,
   "id": "7bda5f58-c93d-479e-b368-6ddb74761592",
   "metadata": {},
   "outputs": [],
   "source": [
    "customer_one_total = customer_one_total + customer_one_tax"
   ]
  },
  {
   "cell_type": "code",
   "execution_count": 16,
   "id": "c4a5b601-0624-4294-9bf8-43ab379da9f7",
   "metadata": {},
   "outputs": [
    {
     "name": "stdout",
     "output_type": "stream",
     "text": [
      "Customer One Items: \n"
     ]
    }
   ],
   "source": [
    "print(\"Customer One Items: \")"
   ]
  },
  {
   "cell_type": "code",
   "execution_count": 17,
   "id": "7aa89601-5d1b-457d-a418-8a09df4b5eb9",
   "metadata": {},
   "outputs": [
    {
     "name": "stdout",
     "output_type": "stream",
     "text": [
      "Customer One Items:  Lovely loveseat. Tufted polyester blend on wood. 32 inches high x 40 inches wide x 30 inches deep. Red or white.Luxurious Lamp. Glass and Iron. 36 inches tall. Brown with cream shade.\n"
     ]
    }
   ],
   "source": [
    "print(\"Customer One Items: \" + str(customer_one_itemization))"
   ]
  },
  {
   "cell_type": "code",
   "execution_count": 18,
   "id": "e40429b2-570e-45f3-b996-c86251b65b1e",
   "metadata": {},
   "outputs": [
    {
     "name": "stdout",
     "output_type": "stream",
     "text": [
      "Customer One Total: \n"
     ]
    }
   ],
   "source": [
    "print(\"Customer One Total: \")"
   ]
  },
  {
   "cell_type": "code",
   "execution_count": 19,
   "id": "9ebaccb0-52cf-44ba-a084-0d50dd59b02a",
   "metadata": {},
   "outputs": [
    {
     "name": "stdout",
     "output_type": "stream",
     "text": [
      "Customer One Total: 333.09119999999996\n"
     ]
    }
   ],
   "source": [
    "print(\"Customer One Total: \" + str(customer_one_total))"
   ]
  },
  {
   "cell_type": "code",
   "execution_count": null,
   "id": "b8ed14b4-63e1-4670-b345-e14770c78cc0",
   "metadata": {},
   "outputs": [],
   "source": []
  }
 ],
 "metadata": {
  "kernelspec": {
   "display_name": "Python 3",
   "language": "python",
   "name": "python3"
  },
  "language_info": {
   "codemirror_mode": {
    "name": "ipython",
    "version": 3
   },
   "file_extension": ".py",
   "mimetype": "text/x-python",
   "name": "python",
   "nbconvert_exporter": "python",
   "pygments_lexer": "ipython3",
   "version": "3.8.8"
  }
 },
 "nbformat": 4,
 "nbformat_minor": 5
}
